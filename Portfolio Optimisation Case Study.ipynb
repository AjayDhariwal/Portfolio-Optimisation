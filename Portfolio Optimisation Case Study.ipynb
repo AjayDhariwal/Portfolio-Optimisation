{
 "cells": [
  {
   "cell_type": "markdown",
   "metadata": {},
   "source": [
    "# Portfolio Optimisation Case Study"
   ]
  },
  {
   "cell_type": "code",
   "execution_count": 1,
   "metadata": {},
   "outputs": [
    {
     "name": "stderr",
     "output_type": "stream",
     "text": [
      "C:\\Users\\Ajay Dhariwal\\Anaconda3\\lib\\site-packages\\pandas\\compat\\_optional.py:138: UserWarning: Pandas requires version '2.7.0' or newer of 'numexpr' (version '2.6.8' currently installed).\n",
      "  warnings.warn(msg, UserWarning)\n"
     ]
    }
   ],
   "source": [
    "import numpy as np\n",
    "import pandas as pd\n",
    "import matplotlib.pyplot as plt\n",
    "import seaborn as sns\n",
    "import yfinance as yf"
   ]
  },
  {
   "cell_type": "code",
   "execution_count": 2,
   "metadata": {},
   "outputs": [
    {
     "name": "stdout",
     "output_type": "stream",
     "text": [
      "[*********************100%***********************]  1 of 1 completed\n",
      "[*********************100%***********************]  1 of 1 completed\n",
      "[*********************100%***********************]  1 of 1 completed\n",
      "[*********************100%***********************]  1 of 1 completed\n"
     ]
    }
   ],
   "source": [
    "# The yfinance module is used to get the data from yahoo finance \n",
    "startdate='2017-01-01'\n",
    "enddate='2020-12-31'\n",
    "df_msft=yf.download('MSFT',start=startdate,end=enddate)\n",
    "df_apple=yf.download('AAPL',start=startdate,end=enddate)\n",
    "df_orcl=yf.download('ORCL',start=startdate,end=enddate)\n",
    "df_amd=yf.download('AMD',start=startdate,end=enddate)"
   ]
  },
  {
   "cell_type": "code",
   "execution_count": 3,
   "metadata": {},
   "outputs": [
    {
     "data": {
      "text/html": [
       "<div>\n",
       "<style scoped>\n",
       "    .dataframe tbody tr th:only-of-type {\n",
       "        vertical-align: middle;\n",
       "    }\n",
       "\n",
       "    .dataframe tbody tr th {\n",
       "        vertical-align: top;\n",
       "    }\n",
       "\n",
       "    .dataframe thead th {\n",
       "        text-align: right;\n",
       "    }\n",
       "</style>\n",
       "<table border=\"1\" class=\"dataframe\">\n",
       "  <thead>\n",
       "    <tr style=\"text-align: right;\">\n",
       "      <th></th>\n",
       "      <th>Open</th>\n",
       "      <th>High</th>\n",
       "      <th>Low</th>\n",
       "      <th>Close</th>\n",
       "      <th>Adj Close</th>\n",
       "      <th>Volume</th>\n",
       "    </tr>\n",
       "    <tr>\n",
       "      <th>Date</th>\n",
       "      <th></th>\n",
       "      <th></th>\n",
       "      <th></th>\n",
       "      <th></th>\n",
       "      <th></th>\n",
       "      <th></th>\n",
       "    </tr>\n",
       "  </thead>\n",
       "  <tbody>\n",
       "    <tr>\n",
       "      <th>2017-01-03</th>\n",
       "      <td>62.790001</td>\n",
       "      <td>62.84</td>\n",
       "      <td>62.130001</td>\n",
       "      <td>62.580002</td>\n",
       "      <td>58.291965</td>\n",
       "      <td>20694100</td>\n",
       "    </tr>\n",
       "    <tr>\n",
       "      <th>2017-01-04</th>\n",
       "      <td>62.480000</td>\n",
       "      <td>62.75</td>\n",
       "      <td>62.119999</td>\n",
       "      <td>62.299999</td>\n",
       "      <td>58.031158</td>\n",
       "      <td>21340000</td>\n",
       "    </tr>\n",
       "  </tbody>\n",
       "</table>\n",
       "</div>"
      ],
      "text/plain": [
       "                 Open   High        Low      Close  Adj Close    Volume\n",
       "Date                                                                   \n",
       "2017-01-03  62.790001  62.84  62.130001  62.580002  58.291965  20694100\n",
       "2017-01-04  62.480000  62.75  62.119999  62.299999  58.031158  21340000"
      ]
     },
     "execution_count": 3,
     "metadata": {},
     "output_type": "execute_result"
    }
   ],
   "source": [
    "df_msft.head(2)"
   ]
  },
  {
   "cell_type": "markdown",
   "metadata": {},
   "source": [
    "With the yfinance imported as yf, the yf.download('company_name',startdat,enddate), we get the data from the yahoo finance as a dataframe directly into the python. \n"
   ]
  },
  {
   "cell_type": "markdown",
   "metadata": {},
   "source": [
    "### Creating  a Portfolio of selected stocks"
   ]
  },
  {
   "cell_type": "code",
   "execution_count": 4,
   "metadata": {},
   "outputs": [],
   "source": [
    "# First, we want to normalise the stock prices. In this case, we want to convert the dollar value into daily returns\n",
    "# The Goal is to make changes observabe easier\n"
   ]
  },
  {
   "cell_type": "code",
   "execution_count": 5,
   "metadata": {},
   "outputs": [
    {
     "data": {
      "text/html": [
       "<div>\n",
       "<style scoped>\n",
       "    .dataframe tbody tr th:only-of-type {\n",
       "        vertical-align: middle;\n",
       "    }\n",
       "\n",
       "    .dataframe tbody tr th {\n",
       "        vertical-align: top;\n",
       "    }\n",
       "\n",
       "    .dataframe thead th {\n",
       "        text-align: right;\n",
       "    }\n",
       "</style>\n",
       "<table border=\"1\" class=\"dataframe\">\n",
       "  <thead>\n",
       "    <tr style=\"text-align: right;\">\n",
       "      <th></th>\n",
       "      <th>Open</th>\n",
       "      <th>High</th>\n",
       "      <th>Low</th>\n",
       "      <th>Close</th>\n",
       "      <th>Adj Close</th>\n",
       "      <th>Volume</th>\n",
       "    </tr>\n",
       "    <tr>\n",
       "      <th>Date</th>\n",
       "      <th></th>\n",
       "      <th></th>\n",
       "      <th></th>\n",
       "      <th></th>\n",
       "      <th></th>\n",
       "      <th></th>\n",
       "    </tr>\n",
       "  </thead>\n",
       "  <tbody>\n",
       "    <tr>\n",
       "      <th>2017-01-03</th>\n",
       "      <td>38.450001</td>\n",
       "      <td>38.689999</td>\n",
       "      <td>38.299999</td>\n",
       "      <td>38.549999</td>\n",
       "      <td>35.671886</td>\n",
       "      <td>11051300</td>\n",
       "    </tr>\n",
       "    <tr>\n",
       "      <th>2017-01-04</th>\n",
       "      <td>38.549999</td>\n",
       "      <td>38.919998</td>\n",
       "      <td>38.549999</td>\n",
       "      <td>38.740002</td>\n",
       "      <td>35.847702</td>\n",
       "      <td>9545500</td>\n",
       "    </tr>\n",
       "  </tbody>\n",
       "</table>\n",
       "</div>"
      ],
      "text/plain": [
       "                 Open       High        Low      Close  Adj Close    Volume\n",
       "Date                                                                       \n",
       "2017-01-03  38.450001  38.689999  38.299999  38.549999  35.671886  11051300\n",
       "2017-01-04  38.549999  38.919998  38.549999  38.740002  35.847702   9545500"
      ]
     },
     "execution_count": 5,
     "metadata": {},
     "output_type": "execute_result"
    }
   ],
   "source": [
    "df_orcl.head(2)"
   ]
  },
  {
   "cell_type": "code",
   "execution_count": 6,
   "metadata": {},
   "outputs": [],
   "source": [
    "portfolio=[df_msft,df_orcl,df_apple,df_amd]\n",
    "for stock in portfolio:\n",
    "    stock['Normalising return']=stock['Adj Close']/stock.iloc[0]['Adj Close']"
   ]
  },
  {
   "cell_type": "code",
   "execution_count": 7,
   "metadata": {},
   "outputs": [
    {
     "data": {
      "text/html": [
       "<div>\n",
       "<style scoped>\n",
       "    .dataframe tbody tr th:only-of-type {\n",
       "        vertical-align: middle;\n",
       "    }\n",
       "\n",
       "    .dataframe tbody tr th {\n",
       "        vertical-align: top;\n",
       "    }\n",
       "\n",
       "    .dataframe thead th {\n",
       "        text-align: right;\n",
       "    }\n",
       "</style>\n",
       "<table border=\"1\" class=\"dataframe\">\n",
       "  <thead>\n",
       "    <tr style=\"text-align: right;\">\n",
       "      <th></th>\n",
       "      <th>Open</th>\n",
       "      <th>High</th>\n",
       "      <th>Low</th>\n",
       "      <th>Close</th>\n",
       "      <th>Adj Close</th>\n",
       "      <th>Volume</th>\n",
       "      <th>Normalising return</th>\n",
       "    </tr>\n",
       "    <tr>\n",
       "      <th>Date</th>\n",
       "      <th></th>\n",
       "      <th></th>\n",
       "      <th></th>\n",
       "      <th></th>\n",
       "      <th></th>\n",
       "      <th></th>\n",
       "      <th></th>\n",
       "    </tr>\n",
       "  </thead>\n",
       "  <tbody>\n",
       "    <tr>\n",
       "      <th>2017-01-03</th>\n",
       "      <td>28.950001</td>\n",
       "      <td>29.082500</td>\n",
       "      <td>28.690001</td>\n",
       "      <td>29.037500</td>\n",
       "      <td>27.372364</td>\n",
       "      <td>115127600</td>\n",
       "      <td>1.000000</td>\n",
       "    </tr>\n",
       "    <tr>\n",
       "      <th>2017-01-04</th>\n",
       "      <td>28.962500</td>\n",
       "      <td>29.127501</td>\n",
       "      <td>28.937500</td>\n",
       "      <td>29.004999</td>\n",
       "      <td>27.341724</td>\n",
       "      <td>84472400</td>\n",
       "      <td>0.998881</td>\n",
       "    </tr>\n",
       "  </tbody>\n",
       "</table>\n",
       "</div>"
      ],
      "text/plain": [
       "                 Open       High        Low      Close  Adj Close     Volume  \\\n",
       "Date                                                                           \n",
       "2017-01-03  28.950001  29.082500  28.690001  29.037500  27.372364  115127600   \n",
       "2017-01-04  28.962500  29.127501  28.937500  29.004999  27.341724   84472400   \n",
       "\n",
       "            Normalising return  \n",
       "Date                            \n",
       "2017-01-03            1.000000  \n",
       "2017-01-04            0.998881  "
      ]
     },
     "execution_count": 7,
     "metadata": {},
     "output_type": "execute_result"
    }
   ],
   "source": [
    "# We have created a new colum Normalising return where in we have included the returns \n",
    "df_apple.head(2)"
   ]
  },
  {
   "cell_type": "code",
   "execution_count": 8,
   "metadata": {},
   "outputs": [],
   "source": [
    "# First, we assign the weights to the stocks in the portflio\n",
    "weights=[0.25,0.25,0.25,0.25]\n",
    "portfolio_with_weight=zip(portfolio,weights)\n",
    "for stock,weight in portfolio_with_weight:\n",
    "    stock['Allocation']=stock['Normalising return']*weight"
   ]
  },
  {
   "cell_type": "code",
   "execution_count": 9,
   "metadata": {},
   "outputs": [
    {
     "data": {
      "text/html": [
       "<div>\n",
       "<style scoped>\n",
       "    .dataframe tbody tr th:only-of-type {\n",
       "        vertical-align: middle;\n",
       "    }\n",
       "\n",
       "    .dataframe tbody tr th {\n",
       "        vertical-align: top;\n",
       "    }\n",
       "\n",
       "    .dataframe thead th {\n",
       "        text-align: right;\n",
       "    }\n",
       "</style>\n",
       "<table border=\"1\" class=\"dataframe\">\n",
       "  <thead>\n",
       "    <tr style=\"text-align: right;\">\n",
       "      <th></th>\n",
       "      <th>Open</th>\n",
       "      <th>High</th>\n",
       "      <th>Low</th>\n",
       "      <th>Close</th>\n",
       "      <th>Adj Close</th>\n",
       "      <th>Volume</th>\n",
       "      <th>Normalising return</th>\n",
       "      <th>Allocation</th>\n",
       "    </tr>\n",
       "    <tr>\n",
       "      <th>Date</th>\n",
       "      <th></th>\n",
       "      <th></th>\n",
       "      <th></th>\n",
       "      <th></th>\n",
       "      <th></th>\n",
       "      <th></th>\n",
       "      <th></th>\n",
       "      <th></th>\n",
       "    </tr>\n",
       "  </thead>\n",
       "  <tbody>\n",
       "    <tr>\n",
       "      <th>2017-01-03</th>\n",
       "      <td>28.950001</td>\n",
       "      <td>29.082500</td>\n",
       "      <td>28.690001</td>\n",
       "      <td>29.037500</td>\n",
       "      <td>27.372364</td>\n",
       "      <td>115127600</td>\n",
       "      <td>1.000000</td>\n",
       "      <td>0.25000</td>\n",
       "    </tr>\n",
       "    <tr>\n",
       "      <th>2017-01-04</th>\n",
       "      <td>28.962500</td>\n",
       "      <td>29.127501</td>\n",
       "      <td>28.937500</td>\n",
       "      <td>29.004999</td>\n",
       "      <td>27.341724</td>\n",
       "      <td>84472400</td>\n",
       "      <td>0.998881</td>\n",
       "      <td>0.24972</td>\n",
       "    </tr>\n",
       "  </tbody>\n",
       "</table>\n",
       "</div>"
      ],
      "text/plain": [
       "                 Open       High        Low      Close  Adj Close     Volume  \\\n",
       "Date                                                                           \n",
       "2017-01-03  28.950001  29.082500  28.690001  29.037500  27.372364  115127600   \n",
       "2017-01-04  28.962500  29.127501  28.937500  29.004999  27.341724   84472400   \n",
       "\n",
       "            Normalising return  Allocation  \n",
       "Date                                        \n",
       "2017-01-03            1.000000     0.25000  \n",
       "2017-01-04            0.998881     0.24972  "
      ]
     },
     "execution_count": 9,
     "metadata": {},
     "output_type": "execute_result"
    }
   ],
   "source": [
    "# now, we have allocated equal amount of money in all the stocks in the portfolio\n",
    "df_apple.head(2)"
   ]
  },
  {
   "cell_type": "code",
   "execution_count": 10,
   "metadata": {},
   "outputs": [],
   "source": [
    "# now, let's invest 20,000 $ in the portfolio\n",
    "for stock in portfolio:\n",
    "    stock['Initial_position']=stock['Allocation']*20000"
   ]
  },
  {
   "cell_type": "code",
   "execution_count": 11,
   "metadata": {},
   "outputs": [
    {
     "data": {
      "text/html": [
       "<div>\n",
       "<style scoped>\n",
       "    .dataframe tbody tr th:only-of-type {\n",
       "        vertical-align: middle;\n",
       "    }\n",
       "\n",
       "    .dataframe tbody tr th {\n",
       "        vertical-align: top;\n",
       "    }\n",
       "\n",
       "    .dataframe thead th {\n",
       "        text-align: right;\n",
       "    }\n",
       "</style>\n",
       "<table border=\"1\" class=\"dataframe\">\n",
       "  <thead>\n",
       "    <tr style=\"text-align: right;\">\n",
       "      <th></th>\n",
       "      <th>Open</th>\n",
       "      <th>High</th>\n",
       "      <th>Low</th>\n",
       "      <th>Close</th>\n",
       "      <th>Adj Close</th>\n",
       "      <th>Volume</th>\n",
       "      <th>Normalising return</th>\n",
       "      <th>Allocation</th>\n",
       "      <th>Initial_position</th>\n",
       "    </tr>\n",
       "    <tr>\n",
       "      <th>Date</th>\n",
       "      <th></th>\n",
       "      <th></th>\n",
       "      <th></th>\n",
       "      <th></th>\n",
       "      <th></th>\n",
       "      <th></th>\n",
       "      <th></th>\n",
       "      <th></th>\n",
       "      <th></th>\n",
       "    </tr>\n",
       "  </thead>\n",
       "  <tbody>\n",
       "    <tr>\n",
       "      <th>2017-01-03</th>\n",
       "      <td>28.950001</td>\n",
       "      <td>29.0825</td>\n",
       "      <td>28.690001</td>\n",
       "      <td>29.0375</td>\n",
       "      <td>27.372364</td>\n",
       "      <td>115127600</td>\n",
       "      <td>1.0</td>\n",
       "      <td>0.25</td>\n",
       "      <td>5000.0</td>\n",
       "    </tr>\n",
       "  </tbody>\n",
       "</table>\n",
       "</div>"
      ],
      "text/plain": [
       "                 Open     High        Low    Close  Adj Close     Volume  \\\n",
       "Date                                                                       \n",
       "2017-01-03  28.950001  29.0825  28.690001  29.0375  27.372364  115127600   \n",
       "\n",
       "            Normalising return  Allocation  Initial_position  \n",
       "Date                                                          \n",
       "2017-01-03                 1.0        0.25            5000.0  "
      ]
     },
     "execution_count": 11,
     "metadata": {},
     "output_type": "execute_result"
    }
   ],
   "source": [
    "df_apple.head(1)\n"
   ]
  },
  {
   "cell_type": "code",
   "execution_count": 12,
   "metadata": {},
   "outputs": [],
   "source": [
    "# Now let's create a dataframe for the initial position of all the stocks and visualise it"
   ]
  },
  {
   "cell_type": "code",
   "execution_count": 13,
   "metadata": {},
   "outputs": [],
   "source": [
    "df_stocks_initial_position=pd.DataFrame({'Apple':df_apple['Initial_position'],'Microsoft':df_msft['Initial_position'],\n",
    "                                         'Oracle':df_orcl['Initial_position'],'AMD':df_amd['Initial_position']\n",
    "                                        })"
   ]
  },
  {
   "cell_type": "code",
   "execution_count": 14,
   "metadata": {},
   "outputs": [],
   "source": [
    "df_stocks_initial_position['Total']=df_stocks_initial_position.sum(axis=1)"
   ]
  },
  {
   "cell_type": "code",
   "execution_count": 15,
   "metadata": {},
   "outputs": [
    {
     "data": {
      "text/html": [
       "<div>\n",
       "<style scoped>\n",
       "    .dataframe tbody tr th:only-of-type {\n",
       "        vertical-align: middle;\n",
       "    }\n",
       "\n",
       "    .dataframe tbody tr th {\n",
       "        vertical-align: top;\n",
       "    }\n",
       "\n",
       "    .dataframe thead th {\n",
       "        text-align: right;\n",
       "    }\n",
       "</style>\n",
       "<table border=\"1\" class=\"dataframe\">\n",
       "  <thead>\n",
       "    <tr style=\"text-align: right;\">\n",
       "      <th></th>\n",
       "      <th>Apple</th>\n",
       "      <th>Microsoft</th>\n",
       "      <th>Oracle</th>\n",
       "      <th>AMD</th>\n",
       "      <th>Total</th>\n",
       "    </tr>\n",
       "    <tr>\n",
       "      <th>Date</th>\n",
       "      <th></th>\n",
       "      <th></th>\n",
       "      <th></th>\n",
       "      <th></th>\n",
       "      <th></th>\n",
       "    </tr>\n",
       "  </thead>\n",
       "  <tbody>\n",
       "    <tr>\n",
       "      <th>2017-01-03</th>\n",
       "      <td>5000.000000</td>\n",
       "      <td>5000.000000</td>\n",
       "      <td>5000.000000</td>\n",
       "      <td>5000.0</td>\n",
       "      <td>20000.000000</td>\n",
       "    </tr>\n",
       "    <tr>\n",
       "      <th>2017-01-04</th>\n",
       "      <td>4994.403178</td>\n",
       "      <td>4977.629247</td>\n",
       "      <td>5024.643438</td>\n",
       "      <td>5000.0</td>\n",
       "      <td>19996.675863</td>\n",
       "    </tr>\n",
       "  </tbody>\n",
       "</table>\n",
       "</div>"
      ],
      "text/plain": [
       "                  Apple    Microsoft       Oracle     AMD         Total\n",
       "Date                                                                   \n",
       "2017-01-03  5000.000000  5000.000000  5000.000000  5000.0  20000.000000\n",
       "2017-01-04  4994.403178  4977.629247  5024.643438  5000.0  19996.675863"
      ]
     },
     "execution_count": 15,
     "metadata": {},
     "output_type": "execute_result"
    }
   ],
   "source": [
    "df_stocks_initial_position.head(2)"
   ]
  },
  {
   "cell_type": "code",
   "execution_count": 34,
   "metadata": {},
   "outputs": [
    {
     "data": {
      "text/plain": [
       "<matplotlib.axes._subplots.AxesSubplot at 0x145b64123c8>"
      ]
     },
     "execution_count": 34,
     "metadata": {},
     "output_type": "execute_result"
    },
    {
     "data": {
      "image/png": "[encoded data removed]",
      "text/plain": [
       "<Figure size 1440x720 with 1 Axes>"
      ]
     },
     "metadata": {
      "needs_background": "light"
     },
     "output_type": "display_data"
    }
   ],
   "source": [
    "df_stocks_initial_position['Total'].plot(kind='line',figsize=(20,10),title='Total_$20k Portfolio',color='red')"
   ]
  },
  {
   "cell_type": "code",
   "execution_count": 17,
   "metadata": {},
   "outputs": [],
   "source": [
    "name=['Apple','Microsoft','Oracle','AMD','Total']"
   ]
  },
  {
   "cell_type": "code",
   "execution_count": 18,
   "metadata": {},
   "outputs": [
    {
     "data": {
      "text/plain": [
       "<matplotlib.axes._subplots.AxesSubplot at 0x145b88da978>"
      ]
     },
     "execution_count": 18,
     "metadata": {},
     "output_type": "execute_result"
    },
    {
     "data": {
      "image/png": "[encoded data removed]",
      "text/plain": [
       "<Figure size 1440x720 with 6 Axes>"
      ]
     },
     "metadata": {
      "needs_background": "light"
     },
     "output_type": "display_data"
    }
   ],
   "source": [
    "fig,ax1=plt.subplots(nrows=2,ncols=3,figsize=(20,10),constrained_layout=True)\n",
    "ax1=ax1.flatten()\n",
    "for i,j in enumerate(name):\n",
    "    df_stocks_initial_position[j].plot(kind='line',ax=ax1[i],title=j)\n",
    "\n",
    "df_stocks_initial_position.drop('Total',axis=1).plot(kind='line',ax=ax1[5],title='Combined_graph')"
   ]
  },
  {
   "cell_type": "code",
   "execution_count": 37,
   "metadata": {},
   "outputs": [
    {
     "name": "stdout",
     "output_type": "stream",
     "text": [
      "The cumulative return from the portfolio of the stocks over the given time period is 3.6232248727343483 %\n"
     ]
    }
   ],
   "source": [
    "# cumulative portfolio return in percentage terms\n",
    "cumulative=((df_stocks_initial_position['Total'][-1]/df_stocks_initial_position['Total'][0])-1)\n",
    "print('The cumulative return from the portfolio of the stocks over the given time period is {} %'.format(cumulative))"
   ]
  },
  {
   "cell_type": "markdown",
   "metadata": {},
   "source": [
    "### Daily Returns "
   ]
  },
  {
   "cell_type": "code",
   "execution_count": 20,
   "metadata": {},
   "outputs": [
    {
     "data": {
      "text/html": [
       "<div>\n",
       "<style scoped>\n",
       "    .dataframe tbody tr th:only-of-type {\n",
       "        vertical-align: middle;\n",
       "    }\n",
       "\n",
       "    .dataframe tbody tr th {\n",
       "        vertical-align: top;\n",
       "    }\n",
       "\n",
       "    .dataframe thead th {\n",
       "        text-align: right;\n",
       "    }\n",
       "</style>\n",
       "<table border=\"1\" class=\"dataframe\">\n",
       "  <thead>\n",
       "    <tr style=\"text-align: right;\">\n",
       "      <th></th>\n",
       "      <th>Apple</th>\n",
       "      <th>Microsoft</th>\n",
       "      <th>Oracle</th>\n",
       "      <th>AMD</th>\n",
       "      <th>Total</th>\n",
       "    </tr>\n",
       "    <tr>\n",
       "      <th>Date</th>\n",
       "      <th></th>\n",
       "      <th></th>\n",
       "      <th></th>\n",
       "      <th></th>\n",
       "      <th></th>\n",
       "    </tr>\n",
       "  </thead>\n",
       "  <tbody>\n",
       "    <tr>\n",
       "      <th>2017-01-03</th>\n",
       "      <td>5000.000000</td>\n",
       "      <td>5000.000000</td>\n",
       "      <td>5000.000000</td>\n",
       "      <td>5000.0</td>\n",
       "      <td>20000.000000</td>\n",
       "    </tr>\n",
       "    <tr>\n",
       "      <th>2017-01-04</th>\n",
       "      <td>4994.403178</td>\n",
       "      <td>4977.629247</td>\n",
       "      <td>5024.643438</td>\n",
       "      <td>5000.0</td>\n",
       "      <td>19996.675863</td>\n",
       "    </tr>\n",
       "  </tbody>\n",
       "</table>\n",
       "</div>"
      ],
      "text/plain": [
       "                  Apple    Microsoft       Oracle     AMD         Total\n",
       "Date                                                                   \n",
       "2017-01-03  5000.000000  5000.000000  5000.000000  5000.0  20000.000000\n",
       "2017-01-04  4994.403178  4977.629247  5024.643438  5000.0  19996.675863"
      ]
     },
     "execution_count": 20,
     "metadata": {},
     "output_type": "execute_result"
    }
   ],
   "source": [
    "# calculating the Daily returns\n",
    "df_stocks_initial_position.head(2)"
   ]
  },
  {
   "cell_type": "code",
   "execution_count": 21,
   "metadata": {},
   "outputs": [
    {
     "data": {
      "text/html": [
       "<div>\n",
       "<style scoped>\n",
       "    .dataframe tbody tr th:only-of-type {\n",
       "        vertical-align: middle;\n",
       "    }\n",
       "\n",
       "    .dataframe tbody tr th {\n",
       "        vertical-align: top;\n",
       "    }\n",
       "\n",
       "    .dataframe thead th {\n",
       "        text-align: right;\n",
       "    }\n",
       "</style>\n",
       "<table border=\"1\" class=\"dataframe\">\n",
       "  <thead>\n",
       "    <tr style=\"text-align: right;\">\n",
       "      <th></th>\n",
       "      <th>Apple</th>\n",
       "      <th>Microsoft</th>\n",
       "      <th>Oracle</th>\n",
       "      <th>AMD</th>\n",
       "      <th>Total</th>\n",
       "      <th>Daily_Return_%_change</th>\n",
       "    </tr>\n",
       "    <tr>\n",
       "      <th>Date</th>\n",
       "      <th></th>\n",
       "      <th></th>\n",
       "      <th></th>\n",
       "      <th></th>\n",
       "      <th></th>\n",
       "      <th></th>\n",
       "    </tr>\n",
       "  </thead>\n",
       "  <tbody>\n",
       "    <tr>\n",
       "      <th>2017-01-03</th>\n",
       "      <td>5000.000000</td>\n",
       "      <td>5000.000000</td>\n",
       "      <td>5000.000000</td>\n",
       "      <td>5000.000000</td>\n",
       "      <td>20000.000000</td>\n",
       "      <td>NaN</td>\n",
       "    </tr>\n",
       "    <tr>\n",
       "      <th>2017-01-04</th>\n",
       "      <td>4994.403178</td>\n",
       "      <td>4977.629247</td>\n",
       "      <td>5024.643438</td>\n",
       "      <td>5000.000000</td>\n",
       "      <td>19996.675863</td>\n",
       "      <td>-0.016621</td>\n",
       "    </tr>\n",
       "    <tr>\n",
       "      <th>2017-01-05</th>\n",
       "      <td>5019.801056</td>\n",
       "      <td>4977.629247</td>\n",
       "      <td>5011.671800</td>\n",
       "      <td>4916.885158</td>\n",
       "      <td>19925.987261</td>\n",
       "      <td>-0.353502</td>\n",
       "    </tr>\n",
       "    <tr>\n",
       "      <th>2017-01-06</th>\n",
       "      <td>5075.763699</td>\n",
       "      <td>5020.773333</td>\n",
       "      <td>4987.030501</td>\n",
       "      <td>4951.880749</td>\n",
       "      <td>20035.448283</td>\n",
       "      <td>0.549338</td>\n",
       "    </tr>\n",
       "    <tr>\n",
       "      <th>2017-01-09</th>\n",
       "      <td>5122.254878</td>\n",
       "      <td>5004.793896</td>\n",
       "      <td>5062.256374</td>\n",
       "      <td>5026.246485</td>\n",
       "      <td>20215.551634</td>\n",
       "      <td>0.898923</td>\n",
       "    </tr>\n",
       "  </tbody>\n",
       "</table>\n",
       "</div>"
      ],
      "text/plain": [
       "                  Apple    Microsoft       Oracle          AMD         Total  \\\n",
       "Date                                                                           \n",
       "2017-01-03  5000.000000  5000.000000  5000.000000  5000.000000  20000.000000   \n",
       "2017-01-04  4994.403178  4977.629247  5024.643438  5000.000000  19996.675863   \n",
       "2017-01-05  5019.801056  4977.629247  5011.671800  4916.885158  19925.987261   \n",
       "2017-01-06  5075.763699  5020.773333  4987.030501  4951.880749  20035.448283   \n",
       "2017-01-09  5122.254878  5004.793896  5062.256374  5026.246485  20215.551634   \n",
       "\n",
       "            Daily_Return_%_change  \n",
       "Date                               \n",
       "2017-01-03                    NaN  \n",
       "2017-01-04              -0.016621  \n",
       "2017-01-05              -0.353502  \n",
       "2017-01-06               0.549338  \n",
       "2017-01-09               0.898923  "
      ]
     },
     "execution_count": 21,
     "metadata": {},
     "output_type": "execute_result"
    }
   ],
   "source": [
    "df_stocks_initial_position['Daily_Return_%_change']=(df_stocks_initial_position['Total'].pct_change())*100\n",
    "df_stocks_initial_position.head()"
   ]
  },
  {
   "cell_type": "code",
   "execution_count": 38,
   "metadata": {},
   "outputs": [
    {
     "data": {
      "text/plain": [
       "0.0869489367846341"
      ]
     },
     "execution_count": 38,
     "metadata": {},
     "output_type": "execute_result"
    }
   ],
   "source": [
    "# Sharpe Ratio: The return per unit amount of risk in addition to the risk free rate is termed as the sharpe ratio.\n",
    "# Here, for ease of calculation purposes, we assume the risk free rate to be 0\n",
    "sharpe_ratio=df_stocks_initial_position['Daily_Return_%_change'].mean()/df_stocks_initial_position['Daily_Return_%_change'].std()\n",
    "sharpe_ratio"
   ]
  },
  {
   "cell_type": "markdown",
   "metadata": {},
   "source": [
    "### Annualised Sharpe ratio\n",
    "Since we have the daily volatility, to convert it into annual volatility, we multiply the daily volatility with sqrt of 252"
   ]
  },
  {
   "cell_type": "code",
   "execution_count": 39,
   "metadata": {},
   "outputs": [
    {
     "data": {
      "text/plain": [
       "1.3802715809617072"
      ]
     },
     "execution_count": 39,
     "metadata": {},
     "output_type": "execute_result"
    }
   ],
   "source": [
    "sharpe_ratio_annualised=sharpe_ratio*(np.sqrt(252))\n",
    "sharpe_ratio_annualised"
   ]
  },
  {
   "cell_type": "markdown",
   "metadata": {},
   "source": [
    "Now, we will use the Sharpe ratio to connstruct a portfolio with Optimal performance. Based on Modern Portfolio  Thoery, \n",
    "We want to make Portfolios that give us the most amount of return with a least amount of risk. We try to reach the \n",
    "GLobal Minimum variance portfolio"
   ]
  },
  {
   "cell_type": "markdown",
   "metadata": {},
   "source": [
    "## Set up for Portfolio Optimisation\n",
    "We want to optimise our portfolio to reach the highest sharpe ratio"
   ]
  },
  {
   "cell_type": "code",
   "execution_count": 40,
   "metadata": {},
   "outputs": [
    {
     "data": {
      "text/html": [
       "<div>\n",
       "<style scoped>\n",
       "    .dataframe tbody tr th:only-of-type {\n",
       "        vertical-align: middle;\n",
       "    }\n",
       "\n",
       "    .dataframe tbody tr th {\n",
       "        vertical-align: top;\n",
       "    }\n",
       "\n",
       "    .dataframe thead th {\n",
       "        text-align: right;\n",
       "    }\n",
       "</style>\n",
       "<table border=\"1\" class=\"dataframe\">\n",
       "  <thead>\n",
       "    <tr style=\"text-align: right;\">\n",
       "      <th></th>\n",
       "      <th>Microsoft</th>\n",
       "      <th>Apple</th>\n",
       "      <th>Oracle</th>\n",
       "      <th>AMD</th>\n",
       "    </tr>\n",
       "    <tr>\n",
       "      <th>Date</th>\n",
       "      <th></th>\n",
       "      <th></th>\n",
       "      <th></th>\n",
       "      <th></th>\n",
       "    </tr>\n",
       "  </thead>\n",
       "  <tbody>\n",
       "    <tr>\n",
       "      <th>2017-01-03</th>\n",
       "      <td>58.291965</td>\n",
       "      <td>27.372364</td>\n",
       "      <td>35.671886</td>\n",
       "      <td>11.43</td>\n",
       "    </tr>\n",
       "    <tr>\n",
       "      <th>2017-01-04</th>\n",
       "      <td>58.031158</td>\n",
       "      <td>27.341724</td>\n",
       "      <td>35.847702</td>\n",
       "      <td>11.43</td>\n",
       "    </tr>\n",
       "    <tr>\n",
       "      <th>2017-01-05</th>\n",
       "      <td>58.031158</td>\n",
       "      <td>27.480764</td>\n",
       "      <td>35.755157</td>\n",
       "      <td>11.24</td>\n",
       "    </tr>\n",
       "    <tr>\n",
       "      <th>2017-01-06</th>\n",
       "      <td>58.534149</td>\n",
       "      <td>27.787130</td>\n",
       "      <td>35.579357</td>\n",
       "      <td>11.32</td>\n",
       "    </tr>\n",
       "    <tr>\n",
       "      <th>2017-01-09</th>\n",
       "      <td>58.347855</td>\n",
       "      <td>28.041645</td>\n",
       "      <td>36.116047</td>\n",
       "      <td>11.49</td>\n",
       "    </tr>\n",
       "  </tbody>\n",
       "</table>\n",
       "</div>"
      ],
      "text/plain": [
       "            Microsoft      Apple     Oracle    AMD\n",
       "Date                                              \n",
       "2017-01-03  58.291965  27.372364  35.671886  11.43\n",
       "2017-01-04  58.031158  27.341724  35.847702  11.43\n",
       "2017-01-05  58.031158  27.480764  35.755157  11.24\n",
       "2017-01-06  58.534149  27.787130  35.579357  11.32\n",
       "2017-01-09  58.347855  28.041645  36.116047  11.49"
      ]
     },
     "execution_count": 40,
     "metadata": {},
     "output_type": "execute_result"
    }
   ],
   "source": [
    "# concatenating the Adjusted close prices for all the stocks\n",
    "df_new=pd.concat([df_msft['Adj Close'],df_apple['Adj Close'],df_orcl['Adj Close'],df_amd['Adj Close']],axis=1)\n",
    "df_new.columns=['Microsoft','Apple','Oracle','AMD']\n",
    "df_new.head()"
   ]
  },
  {
   "cell_type": "code",
   "execution_count": 41,
   "metadata": {},
   "outputs": [
    {
     "data": {
      "text/html": [
       "<div>\n",
       "<style scoped>\n",
       "    .dataframe tbody tr th:only-of-type {\n",
       "        vertical-align: middle;\n",
       "    }\n",
       "\n",
       "    .dataframe tbody tr th {\n",
       "        vertical-align: top;\n",
       "    }\n",
       "\n",
       "    .dataframe thead th {\n",
       "        text-align: right;\n",
       "    }\n",
       "</style>\n",
       "<table border=\"1\" class=\"dataframe\">\n",
       "  <thead>\n",
       "    <tr style=\"text-align: right;\">\n",
       "      <th></th>\n",
       "      <th>Microsoft</th>\n",
       "      <th>Apple</th>\n",
       "      <th>Oracle</th>\n",
       "      <th>AMD</th>\n",
       "    </tr>\n",
       "    <tr>\n",
       "      <th>Date</th>\n",
       "      <th></th>\n",
       "      <th></th>\n",
       "      <th></th>\n",
       "      <th></th>\n",
       "    </tr>\n",
       "  </thead>\n",
       "  <tbody>\n",
       "    <tr>\n",
       "      <th>2017-01-03</th>\n",
       "      <td>NaN</td>\n",
       "      <td>NaN</td>\n",
       "      <td>NaN</td>\n",
       "      <td>NaN</td>\n",
       "    </tr>\n",
       "    <tr>\n",
       "      <th>2017-01-04</th>\n",
       "      <td>-0.004474</td>\n",
       "      <td>-0.001119</td>\n",
       "      <td>0.004929</td>\n",
       "      <td>0.000000</td>\n",
       "    </tr>\n",
       "    <tr>\n",
       "      <th>2017-01-05</th>\n",
       "      <td>0.000000</td>\n",
       "      <td>0.005085</td>\n",
       "      <td>-0.002582</td>\n",
       "      <td>-0.016623</td>\n",
       "    </tr>\n",
       "    <tr>\n",
       "      <th>2017-01-06</th>\n",
       "      <td>0.008668</td>\n",
       "      <td>0.011148</td>\n",
       "      <td>-0.004917</td>\n",
       "      <td>0.007117</td>\n",
       "    </tr>\n",
       "    <tr>\n",
       "      <th>2017-01-09</th>\n",
       "      <td>-0.003183</td>\n",
       "      <td>0.009159</td>\n",
       "      <td>0.015084</td>\n",
       "      <td>0.015018</td>\n",
       "    </tr>\n",
       "  </tbody>\n",
       "</table>\n",
       "</div>"
      ],
      "text/plain": [
       "            Microsoft     Apple    Oracle       AMD\n",
       "Date                                               \n",
       "2017-01-03        NaN       NaN       NaN       NaN\n",
       "2017-01-04  -0.004474 -0.001119  0.004929  0.000000\n",
       "2017-01-05   0.000000  0.005085 -0.002582 -0.016623\n",
       "2017-01-06   0.008668  0.011148 -0.004917  0.007117\n",
       "2017-01-09  -0.003183  0.009159  0.015084  0.015018"
      ]
     },
     "execution_count": 41,
     "metadata": {},
     "output_type": "execute_result"
    }
   ],
   "source": [
    "# This will show the daily returns of the stocks in the portfolio over the time period chosen\n",
    "stocks_return=df_new.pct_change(1)\n",
    "stocks_return.head()"
   ]
  },
  {
   "cell_type": "markdown",
   "metadata": {},
   "source": [
    "### Preparing Variables for the Portfolio Optimisation Technique"
   ]
  },
  {
   "cell_type": "code",
   "execution_count": 26,
   "metadata": {},
   "outputs": [],
   "source": [
    "# We will find 20,000 different portfolio weight combinations and we will select the portfolio with the maximum sharpe ratio\n",
    "number_portfolio_combinations=20000\n",
    "all_weights=np.zeros((number_portfolio_combinations,len(df_new.columns)))"
   ]
  },
  {
   "cell_type": "code",
   "execution_count": 27,
   "metadata": {},
   "outputs": [
    {
     "data": {
      "text/plain": [
       "(20000, 4)"
      ]
     },
     "execution_count": 27,
     "metadata": {},
     "output_type": "execute_result"
    }
   ],
   "source": [
    "all_weights.shape"
   ]
  },
  {
   "cell_type": "code",
   "execution_count": 28,
   "metadata": {},
   "outputs": [],
   "source": [
    "# Prelocating space for Protfolio calculations\n",
    "returns_array=np.zeros(number_portfolio_combinations)\n",
    "volatility_array=np.zeros(number_portfolio_combinations)\n",
    "sharpe_array=np.zeros(number_portfolio_combinations)"
   ]
  },
  {
   "cell_type": "markdown",
   "metadata": {},
   "source": [
    "# Calculate Portfolio Combinations\n"
   ]
  },
  {
   "cell_type": "code",
   "execution_count": 29,
   "metadata": {},
   "outputs": [
    {
     "data": {
      "text/html": [
       "<div>\n",
       "<style scoped>\n",
       "    .dataframe tbody tr th:only-of-type {\n",
       "        vertical-align: middle;\n",
       "    }\n",
       "\n",
       "    .dataframe tbody tr th {\n",
       "        vertical-align: top;\n",
       "    }\n",
       "\n",
       "    .dataframe thead th {\n",
       "        text-align: right;\n",
       "    }\n",
       "</style>\n",
       "<table border=\"1\" class=\"dataframe\">\n",
       "  <thead>\n",
       "    <tr style=\"text-align: right;\">\n",
       "      <th></th>\n",
       "      <th>Apple</th>\n",
       "      <th>Microsoft</th>\n",
       "      <th>Oracle</th>\n",
       "      <th>AMD</th>\n",
       "      <th>Total</th>\n",
       "    </tr>\n",
       "    <tr>\n",
       "      <th>Date</th>\n",
       "      <th></th>\n",
       "      <th></th>\n",
       "      <th></th>\n",
       "      <th></th>\n",
       "      <th></th>\n",
       "    </tr>\n",
       "  </thead>\n",
       "  <tbody>\n",
       "    <tr>\n",
       "      <th>2017-01-03</th>\n",
       "      <td>5000.000000</td>\n",
       "      <td>5000.000000</td>\n",
       "      <td>5000.000000</td>\n",
       "      <td>5000.000000</td>\n",
       "      <td>20000.000000</td>\n",
       "    </tr>\n",
       "    <tr>\n",
       "      <th>2017-01-04</th>\n",
       "      <td>4994.403178</td>\n",
       "      <td>4977.629247</td>\n",
       "      <td>5024.643438</td>\n",
       "      <td>5000.000000</td>\n",
       "      <td>19996.675863</td>\n",
       "    </tr>\n",
       "    <tr>\n",
       "      <th>2017-01-05</th>\n",
       "      <td>5019.801056</td>\n",
       "      <td>4977.629247</td>\n",
       "      <td>5011.671800</td>\n",
       "      <td>4916.885158</td>\n",
       "      <td>19925.987261</td>\n",
       "    </tr>\n",
       "    <tr>\n",
       "      <th>2017-01-06</th>\n",
       "      <td>5075.763699</td>\n",
       "      <td>5020.773333</td>\n",
       "      <td>4987.030501</td>\n",
       "      <td>4951.880749</td>\n",
       "      <td>20035.448283</td>\n",
       "    </tr>\n",
       "    <tr>\n",
       "      <th>2017-01-09</th>\n",
       "      <td>5122.254878</td>\n",
       "      <td>5004.793896</td>\n",
       "      <td>5062.256374</td>\n",
       "      <td>5026.246485</td>\n",
       "      <td>20215.551634</td>\n",
       "    </tr>\n",
       "  </tbody>\n",
       "</table>\n",
       "</div>"
      ],
      "text/plain": [
       "                  Apple    Microsoft       Oracle          AMD         Total\n",
       "Date                                                                        \n",
       "2017-01-03  5000.000000  5000.000000  5000.000000  5000.000000  20000.000000\n",
       "2017-01-04  4994.403178  4977.629247  5024.643438  5000.000000  19996.675863\n",
       "2017-01-05  5019.801056  4977.629247  5011.671800  4916.885158  19925.987261\n",
       "2017-01-06  5075.763699  5020.773333  4987.030501  4951.880749  20035.448283\n",
       "2017-01-09  5122.254878  5004.793896  5062.256374  5026.246485  20215.551634"
      ]
     },
     "execution_count": 29,
     "metadata": {},
     "output_type": "execute_result"
    }
   ],
   "source": [
    "stocks=df_stocks_initial_position[['Apple','Microsoft','Oracle','AMD','Total']]\n",
    "stocks.head()"
   ]
  },
  {
   "cell_type": "code",
   "execution_count": 94,
   "metadata": {},
   "outputs": [],
   "source": [
    "import random\n",
    "random.seed(3)\n",
    "# we want to do 20,000 portfolio combinations to get the the portfolio with the Maximum return per unit amount of risk\n",
    "for i in range(number_portfolio_combinations):\n",
    "    # Generate random weights\n",
    "    numbers=np.array(np.random.random(4))\n",
    "    \n",
    "    # here,4 random numbers are generated in every iteration\n",
    "    weights=numbers/np.sum(numbers)\n",
    "    \n",
    "    # 4 weights are generated with the above code. \n",
    "    # every row is assigned the weights which are the weights of the stocks in the portfolio. \n",
    "    all_weights[i,:]=weights\n",
    "    \n",
    "    # Expected Return \n",
    "    returns_array[i]=np.sum(stocks_return.mean()*252*weights)\n",
    "    \n",
    "    #Expected Volatility\n",
    "    volatility_array[i]=np.sqrt(np.dot(weights.T,np.dot(stocks_return.cov()*252,weights)))\n",
    "    \n",
    "    #Sharpe Ratio\n",
    "    sharpe_array[i]=returns_array[i]/volatility_array[i]"
   ]
  },
  {
   "cell_type": "code",
   "execution_count": 95,
   "metadata": {},
   "outputs": [
    {
     "data": {
      "text/plain": [
       "array([1.36778882, 1.21472223, 1.42277805, ..., 1.361104  , 1.43499746,\n",
       "       1.28844508])"
      ]
     },
     "execution_count": 95,
     "metadata": {},
     "output_type": "execute_result"
    }
   ],
   "source": [
    "sharpe_array"
   ]
  },
  {
   "cell_type": "code",
   "execution_count": 96,
   "metadata": {},
   "outputs": [
    {
     "name": "stdout",
     "output_type": "stream",
     "text": [
      "All weights [[0.07350126 0.23291167 0.26403763 0.42954944]\n",
      " [0.19573019 0.18859026 0.52930361 0.08637594]\n",
      " [0.26247179 0.19219816 0.1884837  0.35684635]\n",
      " ...\n",
      " [0.42582155 0.13056453 0.31035431 0.13325961]\n",
      " [0.40451889 0.12335634 0.0949991  0.37712566]\n",
      " [0.20093195 0.02418382 0.38173389 0.39315034]]\n",
      "First combinaiton [0.07350126 0.23291167 0.26403763 0.42954944]\n"
     ]
    }
   ],
   "source": [
    "print('All weights',all_weights)\n",
    "print('First combinaiton',all_weights[0])"
   ]
  },
  {
   "cell_type": "markdown",
   "metadata": {},
   "source": [
    "## Finding the highest sharpe ratio"
   ]
  },
  {
   "cell_type": "code",
   "execution_count": 97,
   "metadata": {},
   "outputs": [
    {
     "data": {
      "text/plain": [
       "1.5452020275627916"
      ]
     },
     "execution_count": 97,
     "metadata": {},
     "output_type": "execute_result"
    }
   ],
   "source": [
    "sharpe_array.max()"
   ]
  },
  {
   "cell_type": "markdown",
   "metadata": {},
   "source": [
    "## Finding the index of the higest sharpe ratio portfolio "
   ]
  },
  {
   "cell_type": "code",
   "execution_count": 101,
   "metadata": {},
   "outputs": [
    {
     "data": {
      "text/plain": [
       "5361"
      ]
     },
     "execution_count": 101,
     "metadata": {},
     "output_type": "execute_result"
    }
   ],
   "source": [
    "sharpe_array_max_index=sharpe_array.argmax()\n",
    "sharpe_array_max_index"
   ]
  },
  {
   "cell_type": "markdown",
   "metadata": {},
   "source": [
    "## Getting the portfolio weights for the highest shape ratio portfolio"
   ]
  },
  {
   "cell_type": "code",
   "execution_count": 105,
   "metadata": {},
   "outputs": [
    {
     "name": "stdout",
     "output_type": "stream",
     "text": [
      "[0.23790736 0.55176976 0.0033548  0.20696808]\n",
      "Index(['Apple', 'Microsoft', 'Oracle', 'AMD', 'Total'], dtype='object')\n"
     ]
    }
   ],
   "source": [
    "print(all_weights[5361])\n",
    "print(stocks.columns)"
   ]
  },
  {
   "cell_type": "markdown",
   "metadata": {},
   "source": [
    "## Plot the Efficient Frontier  "
   ]
  },
  {
   "cell_type": "code",
   "execution_count": 115,
   "metadata": {},
   "outputs": [
    {
     "data": {
      "text/plain": [
       "<matplotlib.collections.PathCollection at 0x145ba821438>"
      ]
     },
     "execution_count": 115,
     "metadata": {},
     "output_type": "execute_result"
    },
    {
     "data": {
      "image/png": "[encoded data removed]",
      "text/plain": [
       "<Figure size 432x288 with 2 Axes>"
      ]
     },
     "metadata": {
      "needs_background": "light"
     },
     "output_type": "display_data"
    }
   ],
   "source": [
    "plt.scatter(volatility_array,returns_array,c=sharpe_array)\n",
    "plt.xlabel('Volatility')\n",
    "plt.ylabel('Returns')\n",
    "plt.colorbar(label='sharpe_array')\n",
    "# Plotting the portfolio with the highest sharpe ratio\n",
    "plt.scatter(volatility_array[sharpe_array_max_index],returns_array[sharpe_array_max_index],color='red',edgecolors='black')"
   ]
  },
  {
   "cell_type": "markdown",
   "metadata": {},
   "source": [
    "### We have found the optimal weights for the portfolio from 20,000 random weights. \n",
    "### We plotted the efficient frontier and found the minimum variance portfolio that maximises the sharpe Ratio(Return for the investor) "
   ]
  },
  {
   "cell_type": "code",
   "execution_count": null,
   "metadata": {},
   "outputs": [],
   "source": []
  }
 ],
 "metadata": {
  "kernelspec": {
   "display_name": "Python 3",
   "language": "python",
   "name": "python3"
  },
  "language_info": {
   "codemirror_mode": {
    "name": "ipython",
    "version": 3
   },
   "file_extension": ".py",
   "mimetype": "text/x-python",
   "name": "python",
   "nbconvert_exporter": "python",
   "pygments_lexer": "ipython3",
   "version": "3.7.1"
  }
 },
 "nbformat": 4,
 "nbformat_minor": 5
}
